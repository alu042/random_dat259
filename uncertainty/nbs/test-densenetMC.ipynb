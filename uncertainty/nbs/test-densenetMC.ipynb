{
 "cells": [
  {
   "cell_type": "markdown",
   "metadata": {},
   "source": [
    "For å fikse at vi bruker GPU id 1 (siden 0 var opptatt):"
   ]
  },
  {
   "cell_type": "code",
   "execution_count": 1,
   "metadata": {},
   "outputs": [],
   "source": [
    "import os\n",
    "os.environ[\"CUDA_VISIBLE_DEVICES\"]=\"1\""
   ]
  },
  {
   "cell_type": "markdown",
   "metadata": {},
   "source": [
    "# Setup og imports"
   ]
  },
  {
   "cell_type": "code",
   "execution_count": 2,
   "metadata": {},
   "outputs": [],
   "source": [
    "%reload_ext autoreload \n",
    "%autoreload 2"
   ]
  },
  {
   "cell_type": "code",
   "execution_count": 3,
   "metadata": {},
   "outputs": [],
   "source": [
    "import sys, os\n",
    "sys.path.append(\"../src/fastai/\")"
   ]
  },
  {
   "cell_type": "code",
   "execution_count": 4,
   "metadata": {},
   "outputs": [],
   "source": [
    "import fastai\n",
    "from fastai.imports import *\n",
    "from fastai.conv_learner import *"
   ]
  },
  {
   "cell_type": "code",
   "execution_count": 5,
   "metadata": {},
   "outputs": [],
   "source": [
    "import torch\n",
    "import torchvision"
   ]
  },
  {
   "cell_type": "markdown",
   "metadata": {},
   "source": [
    "### Hvor ligger kildekoden til torch og torchvision?"
   ]
  },
  {
   "cell_type": "code",
   "execution_count": 6,
   "metadata": {},
   "outputs": [
    {
     "data": {
      "text/plain": [
       "'/home/ubuntu/anaconda2/envs/dropoutMC/lib/python3.6/site-packages/torch/__init__.py'"
      ]
     },
     "execution_count": 6,
     "metadata": {},
     "output_type": "execute_result"
    }
   ],
   "source": [
    "torch.__file__"
   ]
  },
  {
   "cell_type": "code",
   "execution_count": 7,
   "metadata": {},
   "outputs": [
    {
     "data": {
      "text/plain": [
       "'/home/ubuntu/anaconda2/envs/dropoutMC/lib/python3.6/site-packages/torchvision/__init__.py'"
      ]
     },
     "execution_count": 7,
     "metadata": {},
     "output_type": "execute_result"
    }
   ],
   "source": [
    "torchvision.__file__"
   ]
  },
  {
   "cell_type": "code",
   "execution_count": 8,
   "metadata": {},
   "outputs": [
    {
     "data": {
      "text/plain": [
       "'../src/fastai/fastai/__init__.py'"
      ]
     },
     "execution_count": 8,
     "metadata": {},
     "output_type": "execute_result"
    }
   ],
   "source": [
    "fastai.__file__"
   ]
  },
  {
   "cell_type": "markdown",
   "metadata": {},
   "source": [
    "# Cifar10"
   ]
  },
  {
   "cell_type": "markdown",
   "metadata": {},
   "source": [
    "Basert på https://github.com/fastai/fastai/blob/master/courses/dl1/lesson7-cifar10.ipynb"
   ]
  },
  {
   "cell_type": "code",
   "execution_count": 9,
   "metadata": {},
   "outputs": [],
   "source": [
    "from fastai.conv_learner import *\n",
    "PATH = \"data/cifar10/\"\n",
    "os.makedirs(PATH,exist_ok=True)"
   ]
  },
  {
   "cell_type": "code",
   "execution_count": 10,
   "metadata": {},
   "outputs": [],
   "source": [
    "classes = ('plane', 'car', 'bird', 'cat', 'deer', 'dog', 'frog', 'horse', 'ship', 'truck')\n",
    "stats = (np.array([ 0.4914 ,  0.48216,  0.44653]), np.array([ 0.24703,  0.24349,  0.26159]))"
   ]
  },
  {
   "cell_type": "code",
   "execution_count": 11,
   "metadata": {},
   "outputs": [],
   "source": [
    "def get_data(sz,bs):\n",
    "    tfms = tfms_from_stats(stats, sz, aug_tfms=[RandomFlip()], pad=sz//8)\n",
    "    return ImageClassifierData.from_paths(PATH, val_name='test', tfms=tfms, bs=bs)"
   ]
  },
  {
   "cell_type": "code",
   "execution_count": 12,
   "metadata": {},
   "outputs": [],
   "source": [
    "data = get_data(224,256)"
   ]
  },
  {
   "cell_type": "markdown",
   "metadata": {},
   "source": [
    "**NB: sz=224 for at siste avg_pool i densenet.py og densenetMC.py skal fungere**\n",
    "\n",
    "(Prøv f.eks. sz=64 så ser du problemet)"
   ]
  },
  {
   "cell_type": "code",
   "execution_count": 13,
   "metadata": {},
   "outputs": [
    {
     "data": {
      "image/png": "[encoded data removed]",
      "text/plain": [
       "<Figure size 432x288 with 1 Axes>"
      ]
     },
     "metadata": {},
     "output_type": "display_data"
    }
   ],
   "source": [
    "x,y=next(iter(data.trn_dl))\n",
    "\n",
    "plt.imshow(data.trn_ds.denorm(x)[0]);"
   ]
  },
  {
   "cell_type": "code",
   "execution_count": 14,
   "metadata": {},
   "outputs": [],
   "source": [
    "num_classes=10"
   ]
  },
  {
   "cell_type": "code",
   "execution_count": 15,
   "metadata": {},
   "outputs": [],
   "source": [
    "#learn = ConvLearner.from_model_data(densenet121(num_classes=num_classes), data)"
   ]
  },
  {
   "cell_type": "code",
   "execution_count": 16,
   "metadata": {},
   "outputs": [],
   "source": [
    "from torchvision import models"
   ]
  },
  {
   "cell_type": "markdown",
   "metadata": {},
   "source": [
    "# Test standard DenseNet"
   ]
  },
  {
   "cell_type": "code",
   "execution_count": 18,
   "metadata": {},
   "outputs": [],
   "source": [
    "#model = models.DenseNet(num_init_features=64, growth_rate=12, block_config=(6, 12, 24, 16), num_classes=10)\n",
    "model = models.DenseNet(num_init_features=64, growth_rate=12, block_config=(3, 6, 12, 8), num_classes=10)"
   ]
  },
  {
   "cell_type": "code",
   "execution_count": 19,
   "metadata": {},
   "outputs": [],
   "source": [
    "learn = ConvLearner.from_model_data(model, data)"
   ]
  },
  {
   "cell_type": "code",
   "execution_count": 20,
   "metadata": {},
   "outputs": [
    {
     "data": {
      "text/plain": [
       "224"
      ]
     },
     "execution_count": 20,
     "metadata": {},
     "output_type": "execute_result"
    }
   ],
   "source": [
    "data.trn_ds.get_sz()"
   ]
  },
  {
   "cell_type": "code",
   "execution_count": 21,
   "metadata": {},
   "outputs": [
    {
     "data": {
      "text/plain": [
       "Linear(in_features=198, out_features=10, bias=True)"
      ]
     },
     "execution_count": 21,
     "metadata": {},
     "output_type": "execute_result"
    }
   ],
   "source": [
    "learn.children[-1]"
   ]
  },
  {
   "cell_type": "code",
   "execution_count": 22,
   "metadata": {},
   "outputs": [],
   "source": [
    "#learn.lr_find()"
   ]
  },
  {
   "cell_type": "code",
   "execution_count": 23,
   "metadata": {},
   "outputs": [],
   "source": [
    "#learn.sched.plot()"
   ]
  },
  {
   "cell_type": "code",
   "execution_count": 24,
   "metadata": {},
   "outputs": [
    {
     "data": {
      "application/vnd.jupyter.widget-view+json": {
       "model_id": "0db8f42c3a1e4935b5105dec005f9c1b",
       "version_major": 2,
       "version_minor": 0
      },
      "text/html": [
       "<p>Failed to display Jupyter Widget of type <code>HBox</code>.</p>\n",
       "<p>\n",
       "  If you're reading this message in the Jupyter Notebook or JupyterLab Notebook, it may mean\n",
       "  that the widgets JavaScript is still loading. If this message persists, it\n",
       "  likely means that the widgets JavaScript library is either not installed or\n",
       "  not enabled. See the <a href=\"https://ipywidgets.readthedocs.io/en/stable/user_install.html\">Jupyter\n",
       "  Widgets Documentation</a> for setup instructions.\n",
       "</p>\n",
       "<p>\n",
       "  If you're reading this message in another frontend (for example, a static\n",
       "  rendering on GitHub or <a href=\"https://nbviewer.jupyter.org/\">NBViewer</a>),\n",
       "  it may mean that your frontend doesn't currently support widgets.\n",
       "</p>\n"
      ],
      "text/plain": [
       "HBox(children=(IntProgress(value=0, description='Epoch', max=1), HTML(value='')))"
      ]
     },
     "metadata": {},
     "output_type": "display_data"
    },
    {
     "name": "stdout",
     "output_type": "stream",
     "text": [
      "epoch      trn_loss   val_loss   accuracy                       \n",
      "    0      -0.010935  -0.018283  0.116797  \n",
      "\n"
     ]
    },
    {
     "data": {
      "text/plain": [
       "[-0.018283347, 0.116796875]"
      ]
     },
     "execution_count": 24,
     "metadata": {},
     "output_type": "execute_result"
    }
   ],
   "source": [
    "learn.fit(10e-6, 1)"
   ]
  },
  {
   "cell_type": "markdown",
   "metadata": {},
   "source": [
    "# Test DenseNetMC"
   ]
  },
  {
   "cell_type": "markdown",
   "metadata": {},
   "source": [
    "*NB* Må restarte kjernen først dersom kjørt densenet-et over. For å frigjøre minne."
   ]
  },
  {
   "cell_type": "code",
   "execution_count": 17,
   "metadata": {},
   "outputs": [],
   "source": [
    "from torchvision import models"
   ]
  },
  {
   "cell_type": "code",
   "execution_count": 18,
   "metadata": {},
   "outputs": [],
   "source": [
    "modelMC = models.DenseNetMC(num_init_features=64, growth_rate=12, block_config=(3, 6, 12, 8), \n",
    "                            drop_rate=0.2, dropoutMC=True, num_classes=10)"
   ]
  },
  {
   "cell_type": "code",
   "execution_count": 19,
   "metadata": {},
   "outputs": [],
   "source": [
    "learnMC = ConvLearner.from_model_data(modelMC, data)"
   ]
  },
  {
   "cell_type": "code",
   "execution_count": 20,
   "metadata": {},
   "outputs": [
    {
     "data": {
      "application/vnd.jupyter.widget-view+json": {
       "model_id": "a2aaecd3a764427280e673974511472d",
       "version_major": 2,
       "version_minor": 0
      },
      "text/html": [
       "<p>Failed to display Jupyter Widget of type <code>HBox</code>.</p>\n",
       "<p>\n",
       "  If you're reading this message in the Jupyter Notebook or JupyterLab Notebook, it may mean\n",
       "  that the widgets JavaScript is still loading. If this message persists, it\n",
       "  likely means that the widgets JavaScript library is either not installed or\n",
       "  not enabled. See the <a href=\"https://ipywidgets.readthedocs.io/en/stable/user_install.html\">Jupyter\n",
       "  Widgets Documentation</a> for setup instructions.\n",
       "</p>\n",
       "<p>\n",
       "  If you're reading this message in another frontend (for example, a static\n",
       "  rendering on GitHub or <a href=\"https://nbviewer.jupyter.org/\">NBViewer</a>),\n",
       "  it may mean that your frontend doesn't currently support widgets.\n",
       "</p>\n"
      ],
      "text/plain": [
       "HBox(children=(IntProgress(value=0, description='Epoch', max=1), HTML(value='')))"
      ]
     },
     "metadata": {},
     "output_type": "display_data"
    },
    {
     "name": "stdout",
     "output_type": "stream",
     "text": [
      "epoch      trn_loss   val_loss   accuracy                       \n",
      "    0      -0.015814  -0.0207    0.100977  \n",
      "\n"
     ]
    },
    {
     "data": {
      "text/plain": [
       "[-0.020700054, 0.1009765625]"
      ]
     },
     "execution_count": 20,
     "metadata": {},
     "output_type": "execute_result"
    }
   ],
   "source": [
    "learnMC.fit(10e-6, 1)"
   ]
  },
  {
   "cell_type": "code",
   "execution_count": 21,
   "metadata": {},
   "outputs": [
    {
     "data": {
      "text/plain": [
       "DenseNetMC(\n",
       "  (features): Sequential(\n",
       "    (conv0): Conv2d(3, 64, kernel_size=(7, 7), stride=(2, 2), padding=(3, 3), bias=False)\n",
       "    (norm0): BatchNorm2d(64, eps=1e-05, momentum=0.1, affine=True)\n",
       "    (relu0): ReLU(inplace)\n",
       "    (pool0): MaxPool2d(kernel_size=(3, 3), stride=(2, 2), padding=(1, 1), dilation=(1, 1), ceil_mode=False)\n",
       "    (denseblock1): _DenseBlock(\n",
       "      (denselayer1): _DenseLayer(\n",
       "        (norm.1): BatchNorm2d(64, eps=1e-05, momentum=0.1, affine=True)\n",
       "        (relu.1): ReLU(inplace)\n",
       "        (conv.1): Conv2d(64, 48, kernel_size=(1, 1), stride=(1, 1), bias=False)\n",
       "        (drop.1): DropoutMC(p=0.2)\n",
       "        (norm.2): BatchNorm2d(48, eps=1e-05, momentum=0.1, affine=True)\n",
       "        (relu.2): ReLU(inplace)\n",
       "        (conv.2): Conv2d(48, 12, kernel_size=(3, 3), stride=(1, 1), padding=(1, 1), bias=False)\n",
       "        (drop.2): DropoutMC(p=0.2)\n",
       "      )\n",
       "      (denselayer2): _DenseLayer(\n",
       "        (norm.1): BatchNorm2d(76, eps=1e-05, momentum=0.1, affine=True)\n",
       "        (relu.1): ReLU(inplace)\n",
       "        (conv.1): Conv2d(76, 48, kernel_size=(1, 1), stride=(1, 1), bias=False)\n",
       "        (drop.1): DropoutMC(p=0.2)\n",
       "        (norm.2): BatchNorm2d(48, eps=1e-05, momentum=0.1, affine=True)\n",
       "        (relu.2): ReLU(inplace)\n",
       "        (conv.2): Conv2d(48, 12, kernel_size=(3, 3), stride=(1, 1), padding=(1, 1), bias=False)\n",
       "        (drop.2): DropoutMC(p=0.2)\n",
       "      )\n",
       "      (denselayer3): _DenseLayer(\n",
       "        (norm.1): BatchNorm2d(88, eps=1e-05, momentum=0.1, affine=True)\n",
       "        (relu.1): ReLU(inplace)\n",
       "        (conv.1): Conv2d(88, 48, kernel_size=(1, 1), stride=(1, 1), bias=False)\n",
       "        (drop.1): DropoutMC(p=0.2)\n",
       "        (norm.2): BatchNorm2d(48, eps=1e-05, momentum=0.1, affine=True)\n",
       "        (relu.2): ReLU(inplace)\n",
       "        (conv.2): Conv2d(48, 12, kernel_size=(3, 3), stride=(1, 1), padding=(1, 1), bias=False)\n",
       "        (drop.2): DropoutMC(p=0.2)\n",
       "      )\n",
       "    )\n",
       "    (transition1): _Transition(\n",
       "      (norm): BatchNorm2d(100, eps=1e-05, momentum=0.1, affine=True)\n",
       "      (relu): ReLU(inplace)\n",
       "      (conv): Conv2d(100, 50, kernel_size=(1, 1), stride=(1, 1), bias=False)\n",
       "      (pool): AvgPool2d(kernel_size=2, stride=2, padding=0, ceil_mode=False, count_include_pad=True)\n",
       "    )\n",
       "    (denseblock2): _DenseBlock(\n",
       "      (denselayer1): _DenseLayer(\n",
       "        (norm.1): BatchNorm2d(50, eps=1e-05, momentum=0.1, affine=True)\n",
       "        (relu.1): ReLU(inplace)\n",
       "        (conv.1): Conv2d(50, 48, kernel_size=(1, 1), stride=(1, 1), bias=False)\n",
       "        (drop.1): DropoutMC(p=0.2)\n",
       "        (norm.2): BatchNorm2d(48, eps=1e-05, momentum=0.1, affine=True)\n",
       "        (relu.2): ReLU(inplace)\n",
       "        (conv.2): Conv2d(48, 12, kernel_size=(3, 3), stride=(1, 1), padding=(1, 1), bias=False)\n",
       "        (drop.2): DropoutMC(p=0.2)\n",
       "      )\n",
       "      (denselayer2): _DenseLayer(\n",
       "        (norm.1): BatchNorm2d(62, eps=1e-05, momentum=0.1, affine=True)\n",
       "        (relu.1): ReLU(inplace)\n",
       "        (conv.1): Conv2d(62, 48, kernel_size=(1, 1), stride=(1, 1), bias=False)\n",
       "        (drop.1): DropoutMC(p=0.2)\n",
       "        (norm.2): BatchNorm2d(48, eps=1e-05, momentum=0.1, affine=True)\n",
       "        (relu.2): ReLU(inplace)\n",
       "        (conv.2): Conv2d(48, 12, kernel_size=(3, 3), stride=(1, 1), padding=(1, 1), bias=False)\n",
       "        (drop.2): DropoutMC(p=0.2)\n",
       "      )\n",
       "      (denselayer3): _DenseLayer(\n",
       "        (norm.1): BatchNorm2d(74, eps=1e-05, momentum=0.1, affine=True)\n",
       "        (relu.1): ReLU(inplace)\n",
       "        (conv.1): Conv2d(74, 48, kernel_size=(1, 1), stride=(1, 1), bias=False)\n",
       "        (drop.1): DropoutMC(p=0.2)\n",
       "        (norm.2): BatchNorm2d(48, eps=1e-05, momentum=0.1, affine=True)\n",
       "        (relu.2): ReLU(inplace)\n",
       "        (conv.2): Conv2d(48, 12, kernel_size=(3, 3), stride=(1, 1), padding=(1, 1), bias=False)\n",
       "        (drop.2): DropoutMC(p=0.2)\n",
       "      )\n",
       "      (denselayer4): _DenseLayer(\n",
       "        (norm.1): BatchNorm2d(86, eps=1e-05, momentum=0.1, affine=True)\n",
       "        (relu.1): ReLU(inplace)\n",
       "        (conv.1): Conv2d(86, 48, kernel_size=(1, 1), stride=(1, 1), bias=False)\n",
       "        (drop.1): DropoutMC(p=0.2)\n",
       "        (norm.2): BatchNorm2d(48, eps=1e-05, momentum=0.1, affine=True)\n",
       "        (relu.2): ReLU(inplace)\n",
       "        (conv.2): Conv2d(48, 12, kernel_size=(3, 3), stride=(1, 1), padding=(1, 1), bias=False)\n",
       "        (drop.2): DropoutMC(p=0.2)\n",
       "      )\n",
       "      (denselayer5): _DenseLayer(\n",
       "        (norm.1): BatchNorm2d(98, eps=1e-05, momentum=0.1, affine=True)\n",
       "        (relu.1): ReLU(inplace)\n",
       "        (conv.1): Conv2d(98, 48, kernel_size=(1, 1), stride=(1, 1), bias=False)\n",
       "        (drop.1): DropoutMC(p=0.2)\n",
       "        (norm.2): BatchNorm2d(48, eps=1e-05, momentum=0.1, affine=True)\n",
       "        (relu.2): ReLU(inplace)\n",
       "        (conv.2): Conv2d(48, 12, kernel_size=(3, 3), stride=(1, 1), padding=(1, 1), bias=False)\n",
       "        (drop.2): DropoutMC(p=0.2)\n",
       "      )\n",
       "      (denselayer6): _DenseLayer(\n",
       "        (norm.1): BatchNorm2d(110, eps=1e-05, momentum=0.1, affine=True)\n",
       "        (relu.1): ReLU(inplace)\n",
       "        (conv.1): Conv2d(110, 48, kernel_size=(1, 1), stride=(1, 1), bias=False)\n",
       "        (drop.1): DropoutMC(p=0.2)\n",
       "        (norm.2): BatchNorm2d(48, eps=1e-05, momentum=0.1, affine=True)\n",
       "        (relu.2): ReLU(inplace)\n",
       "        (conv.2): Conv2d(48, 12, kernel_size=(3, 3), stride=(1, 1), padding=(1, 1), bias=False)\n",
       "        (drop.2): DropoutMC(p=0.2)\n",
       "      )\n",
       "    )\n",
       "    (transition2): _Transition(\n",
       "      (norm): BatchNorm2d(122, eps=1e-05, momentum=0.1, affine=True)\n",
       "      (relu): ReLU(inplace)\n",
       "      (conv): Conv2d(122, 61, kernel_size=(1, 1), stride=(1, 1), bias=False)\n",
       "      (pool): AvgPool2d(kernel_size=2, stride=2, padding=0, ceil_mode=False, count_include_pad=True)\n",
       "    )\n",
       "    (denseblock3): _DenseBlock(\n",
       "      (denselayer1): _DenseLayer(\n",
       "        (norm.1): BatchNorm2d(61, eps=1e-05, momentum=0.1, affine=True)\n",
       "        (relu.1): ReLU(inplace)\n",
       "        (conv.1): Conv2d(61, 48, kernel_size=(1, 1), stride=(1, 1), bias=False)\n",
       "        (drop.1): DropoutMC(p=0.2)\n",
       "        (norm.2): BatchNorm2d(48, eps=1e-05, momentum=0.1, affine=True)\n",
       "        (relu.2): ReLU(inplace)\n",
       "        (conv.2): Conv2d(48, 12, kernel_size=(3, 3), stride=(1, 1), padding=(1, 1), bias=False)\n",
       "        (drop.2): DropoutMC(p=0.2)\n",
       "      )\n",
       "      (denselayer2): _DenseLayer(\n",
       "        (norm.1): BatchNorm2d(73, eps=1e-05, momentum=0.1, affine=True)\n",
       "        (relu.1): ReLU(inplace)\n",
       "        (conv.1): Conv2d(73, 48, kernel_size=(1, 1), stride=(1, 1), bias=False)\n",
       "        (drop.1): DropoutMC(p=0.2)\n",
       "        (norm.2): BatchNorm2d(48, eps=1e-05, momentum=0.1, affine=True)\n",
       "        (relu.2): ReLU(inplace)\n",
       "        (conv.2): Conv2d(48, 12, kernel_size=(3, 3), stride=(1, 1), padding=(1, 1), bias=False)\n",
       "        (drop.2): DropoutMC(p=0.2)\n",
       "      )\n",
       "      (denselayer3): _DenseLayer(\n",
       "        (norm.1): BatchNorm2d(85, eps=1e-05, momentum=0.1, affine=True)\n",
       "        (relu.1): ReLU(inplace)\n",
       "        (conv.1): Conv2d(85, 48, kernel_size=(1, 1), stride=(1, 1), bias=False)\n",
       "        (drop.1): DropoutMC(p=0.2)\n",
       "        (norm.2): BatchNorm2d(48, eps=1e-05, momentum=0.1, affine=True)\n",
       "        (relu.2): ReLU(inplace)\n",
       "        (conv.2): Conv2d(48, 12, kernel_size=(3, 3), stride=(1, 1), padding=(1, 1), bias=False)\n",
       "        (drop.2): DropoutMC(p=0.2)\n",
       "      )\n",
       "      (denselayer4): _DenseLayer(\n",
       "        (norm.1): BatchNorm2d(97, eps=1e-05, momentum=0.1, affine=True)\n",
       "        (relu.1): ReLU(inplace)\n",
       "        (conv.1): Conv2d(97, 48, kernel_size=(1, 1), stride=(1, 1), bias=False)\n",
       "        (drop.1): DropoutMC(p=0.2)\n",
       "        (norm.2): BatchNorm2d(48, eps=1e-05, momentum=0.1, affine=True)\n",
       "        (relu.2): ReLU(inplace)\n",
       "        (conv.2): Conv2d(48, 12, kernel_size=(3, 3), stride=(1, 1), padding=(1, 1), bias=False)\n",
       "        (drop.2): DropoutMC(p=0.2)\n",
       "      )\n",
       "      (denselayer5): _DenseLayer(\n",
       "        (norm.1): BatchNorm2d(109, eps=1e-05, momentum=0.1, affine=True)\n",
       "        (relu.1): ReLU(inplace)\n",
       "        (conv.1): Conv2d(109, 48, kernel_size=(1, 1), stride=(1, 1), bias=False)\n",
       "        (drop.1): DropoutMC(p=0.2)\n",
       "        (norm.2): BatchNorm2d(48, eps=1e-05, momentum=0.1, affine=True)\n",
       "        (relu.2): ReLU(inplace)\n",
       "        (conv.2): Conv2d(48, 12, kernel_size=(3, 3), stride=(1, 1), padding=(1, 1), bias=False)\n",
       "        (drop.2): DropoutMC(p=0.2)\n",
       "      )\n",
       "      (denselayer6): _DenseLayer(\n",
       "        (norm.1): BatchNorm2d(121, eps=1e-05, momentum=0.1, affine=True)\n",
       "        (relu.1): ReLU(inplace)\n",
       "        (conv.1): Conv2d(121, 48, kernel_size=(1, 1), stride=(1, 1), bias=False)\n",
       "        (drop.1): DropoutMC(p=0.2)\n",
       "        (norm.2): BatchNorm2d(48, eps=1e-05, momentum=0.1, affine=True)\n",
       "        (relu.2): ReLU(inplace)\n",
       "        (conv.2): Conv2d(48, 12, kernel_size=(3, 3), stride=(1, 1), padding=(1, 1), bias=False)\n",
       "        (drop.2): DropoutMC(p=0.2)\n",
       "      )\n",
       "      (denselayer7): _DenseLayer(\n",
       "        (norm.1): BatchNorm2d(133, eps=1e-05, momentum=0.1, affine=True)\n",
       "        (relu.1): ReLU(inplace)\n",
       "        (conv.1): Conv2d(133, 48, kernel_size=(1, 1), stride=(1, 1), bias=False)\n",
       "        (drop.1): DropoutMC(p=0.2)\n",
       "        (norm.2): BatchNorm2d(48, eps=1e-05, momentum=0.1, affine=True)\n",
       "        (relu.2): ReLU(inplace)\n",
       "        (conv.2): Conv2d(48, 12, kernel_size=(3, 3), stride=(1, 1), padding=(1, 1), bias=False)\n",
       "        (drop.2): DropoutMC(p=0.2)\n",
       "      )\n",
       "      (denselayer8): _DenseLayer(\n",
       "        (norm.1): BatchNorm2d(145, eps=1e-05, momentum=0.1, affine=True)\n",
       "        (relu.1): ReLU(inplace)\n",
       "        (conv.1): Conv2d(145, 48, kernel_size=(1, 1), stride=(1, 1), bias=False)\n",
       "        (drop.1): DropoutMC(p=0.2)\n",
       "        (norm.2): BatchNorm2d(48, eps=1e-05, momentum=0.1, affine=True)\n",
       "        (relu.2): ReLU(inplace)\n",
       "        (conv.2): Conv2d(48, 12, kernel_size=(3, 3), stride=(1, 1), padding=(1, 1), bias=False)\n",
       "        (drop.2): DropoutMC(p=0.2)\n",
       "      )\n",
       "      (denselayer9): _DenseLayer(\n",
       "        (norm.1): BatchNorm2d(157, eps=1e-05, momentum=0.1, affine=True)\n",
       "        (relu.1): ReLU(inplace)\n",
       "        (conv.1): Conv2d(157, 48, kernel_size=(1, 1), stride=(1, 1), bias=False)\n",
       "        (drop.1): DropoutMC(p=0.2)\n",
       "        (norm.2): BatchNorm2d(48, eps=1e-05, momentum=0.1, affine=True)\n",
       "        (relu.2): ReLU(inplace)\n",
       "        (conv.2): Conv2d(48, 12, kernel_size=(3, 3), stride=(1, 1), padding=(1, 1), bias=False)\n",
       "        (drop.2): DropoutMC(p=0.2)\n",
       "      )\n",
       "      (denselayer10): _DenseLayer(\n",
       "        (norm.1): BatchNorm2d(169, eps=1e-05, momentum=0.1, affine=True)\n",
       "        (relu.1): ReLU(inplace)\n",
       "        (conv.1): Conv2d(169, 48, kernel_size=(1, 1), stride=(1, 1), bias=False)\n",
       "        (drop.1): DropoutMC(p=0.2)\n",
       "        (norm.2): BatchNorm2d(48, eps=1e-05, momentum=0.1, affine=True)\n",
       "        (relu.2): ReLU(inplace)\n",
       "        (conv.2): Conv2d(48, 12, kernel_size=(3, 3), stride=(1, 1), padding=(1, 1), bias=False)\n",
       "        (drop.2): DropoutMC(p=0.2)\n",
       "      )\n",
       "      (denselayer11): _DenseLayer(\n",
       "        (norm.1): BatchNorm2d(181, eps=1e-05, momentum=0.1, affine=True)\n",
       "        (relu.1): ReLU(inplace)\n",
       "        (conv.1): Conv2d(181, 48, kernel_size=(1, 1), stride=(1, 1), bias=False)\n",
       "        (drop.1): DropoutMC(p=0.2)\n",
       "        (norm.2): BatchNorm2d(48, eps=1e-05, momentum=0.1, affine=True)\n",
       "        (relu.2): ReLU(inplace)\n",
       "        (conv.2): Conv2d(48, 12, kernel_size=(3, 3), stride=(1, 1), padding=(1, 1), bias=False)\n",
       "        (drop.2): DropoutMC(p=0.2)\n",
       "      )\n",
       "      (denselayer12): _DenseLayer(\n",
       "        (norm.1): BatchNorm2d(193, eps=1e-05, momentum=0.1, affine=True)\n",
       "        (relu.1): ReLU(inplace)\n",
       "        (conv.1): Conv2d(193, 48, kernel_size=(1, 1), stride=(1, 1), bias=False)\n",
       "        (drop.1): DropoutMC(p=0.2)\n",
       "        (norm.2): BatchNorm2d(48, eps=1e-05, momentum=0.1, affine=True)\n",
       "        (relu.2): ReLU(inplace)\n",
       "        (conv.2): Conv2d(48, 12, kernel_size=(3, 3), stride=(1, 1), padding=(1, 1), bias=False)\n",
       "        (drop.2): DropoutMC(p=0.2)\n",
       "      )\n",
       "    )\n",
       "    (transition3): _Transition(\n",
       "      (norm): BatchNorm2d(205, eps=1e-05, momentum=0.1, affine=True)\n",
       "      (relu): ReLU(inplace)\n",
       "      (conv): Conv2d(205, 102, kernel_size=(1, 1), stride=(1, 1), bias=False)\n",
       "      (pool): AvgPool2d(kernel_size=2, stride=2, padding=0, ceil_mode=False, count_include_pad=True)\n",
       "    )\n",
       "    (denseblock4): _DenseBlock(\n",
       "      (denselayer1): _DenseLayer(\n",
       "        (norm.1): BatchNorm2d(102, eps=1e-05, momentum=0.1, affine=True)\n",
       "        (relu.1): ReLU(inplace)\n",
       "        (conv.1): Conv2d(102, 48, kernel_size=(1, 1), stride=(1, 1), bias=False)\n",
       "        (drop.1): DropoutMC(p=0.2)\n",
       "        (norm.2): BatchNorm2d(48, eps=1e-05, momentum=0.1, affine=True)\n",
       "        (relu.2): ReLU(inplace)\n",
       "        (conv.2): Conv2d(48, 12, kernel_size=(3, 3), stride=(1, 1), padding=(1, 1), bias=False)\n",
       "        (drop.2): DropoutMC(p=0.2)\n",
       "      )\n",
       "      (denselayer2): _DenseLayer(\n",
       "        (norm.1): BatchNorm2d(114, eps=1e-05, momentum=0.1, affine=True)\n",
       "        (relu.1): ReLU(inplace)\n",
       "        (conv.1): Conv2d(114, 48, kernel_size=(1, 1), stride=(1, 1), bias=False)\n",
       "        (drop.1): DropoutMC(p=0.2)\n",
       "        (norm.2): BatchNorm2d(48, eps=1e-05, momentum=0.1, affine=True)\n",
       "        (relu.2): ReLU(inplace)\n",
       "        (conv.2): Conv2d(48, 12, kernel_size=(3, 3), stride=(1, 1), padding=(1, 1), bias=False)\n",
       "        (drop.2): DropoutMC(p=0.2)\n",
       "      )\n",
       "      (denselayer3): _DenseLayer(\n",
       "        (norm.1): BatchNorm2d(126, eps=1e-05, momentum=0.1, affine=True)\n",
       "        (relu.1): ReLU(inplace)\n",
       "        (conv.1): Conv2d(126, 48, kernel_size=(1, 1), stride=(1, 1), bias=False)\n",
       "        (drop.1): DropoutMC(p=0.2)\n",
       "        (norm.2): BatchNorm2d(48, eps=1e-05, momentum=0.1, affine=True)\n",
       "        (relu.2): ReLU(inplace)\n",
       "        (conv.2): Conv2d(48, 12, kernel_size=(3, 3), stride=(1, 1), padding=(1, 1), bias=False)\n",
       "        (drop.2): DropoutMC(p=0.2)\n",
       "      )\n",
       "      (denselayer4): _DenseLayer(\n",
       "        (norm.1): BatchNorm2d(138, eps=1e-05, momentum=0.1, affine=True)\n",
       "        (relu.1): ReLU(inplace)\n",
       "        (conv.1): Conv2d(138, 48, kernel_size=(1, 1), stride=(1, 1), bias=False)\n",
       "        (drop.1): DropoutMC(p=0.2)\n",
       "        (norm.2): BatchNorm2d(48, eps=1e-05, momentum=0.1, affine=True)\n",
       "        (relu.2): ReLU(inplace)\n",
       "        (conv.2): Conv2d(48, 12, kernel_size=(3, 3), stride=(1, 1), padding=(1, 1), bias=False)\n",
       "        (drop.2): DropoutMC(p=0.2)\n",
       "      )\n",
       "      (denselayer5): _DenseLayer(\n",
       "        (norm.1): BatchNorm2d(150, eps=1e-05, momentum=0.1, affine=True)\n",
       "        (relu.1): ReLU(inplace)\n",
       "        (conv.1): Conv2d(150, 48, kernel_size=(1, 1), stride=(1, 1), bias=False)\n",
       "        (drop.1): DropoutMC(p=0.2)\n",
       "        (norm.2): BatchNorm2d(48, eps=1e-05, momentum=0.1, affine=True)\n",
       "        (relu.2): ReLU(inplace)\n",
       "        (conv.2): Conv2d(48, 12, kernel_size=(3, 3), stride=(1, 1), padding=(1, 1), bias=False)\n",
       "        (drop.2): DropoutMC(p=0.2)\n",
       "      )\n",
       "      (denselayer6): _DenseLayer(\n",
       "        (norm.1): BatchNorm2d(162, eps=1e-05, momentum=0.1, affine=True)\n",
       "        (relu.1): ReLU(inplace)\n",
       "        (conv.1): Conv2d(162, 48, kernel_size=(1, 1), stride=(1, 1), bias=False)\n",
       "        (drop.1): DropoutMC(p=0.2)\n",
       "        (norm.2): BatchNorm2d(48, eps=1e-05, momentum=0.1, affine=True)\n",
       "        (relu.2): ReLU(inplace)\n",
       "        (conv.2): Conv2d(48, 12, kernel_size=(3, 3), stride=(1, 1), padding=(1, 1), bias=False)\n",
       "        (drop.2): DropoutMC(p=0.2)\n",
       "      )\n",
       "      (denselayer7): _DenseLayer(\n",
       "        (norm.1): BatchNorm2d(174, eps=1e-05, momentum=0.1, affine=True)\n",
       "        (relu.1): ReLU(inplace)\n",
       "        (conv.1): Conv2d(174, 48, kernel_size=(1, 1), stride=(1, 1), bias=False)\n",
       "        (drop.1): DropoutMC(p=0.2)\n",
       "        (norm.2): BatchNorm2d(48, eps=1e-05, momentum=0.1, affine=True)\n",
       "        (relu.2): ReLU(inplace)\n",
       "        (conv.2): Conv2d(48, 12, kernel_size=(3, 3), stride=(1, 1), padding=(1, 1), bias=False)\n",
       "        (drop.2): DropoutMC(p=0.2)\n",
       "      )\n",
       "      (denselayer8): _DenseLayer(\n",
       "        (norm.1): BatchNorm2d(186, eps=1e-05, momentum=0.1, affine=True)\n",
       "        (relu.1): ReLU(inplace)\n",
       "        (conv.1): Conv2d(186, 48, kernel_size=(1, 1), stride=(1, 1), bias=False)\n",
       "        (drop.1): DropoutMC(p=0.2)\n",
       "        (norm.2): BatchNorm2d(48, eps=1e-05, momentum=0.1, affine=True)\n",
       "        (relu.2): ReLU(inplace)\n",
       "        (conv.2): Conv2d(48, 12, kernel_size=(3, 3), stride=(1, 1), padding=(1, 1), bias=False)\n",
       "        (drop.2): DropoutMC(p=0.2)\n",
       "      )\n",
       "    )\n",
       "    (norm5): BatchNorm2d(198, eps=1e-05, momentum=0.1, affine=True)\n",
       "  )\n",
       "  (classifier): Linear(in_features=198, out_features=10, bias=True)\n",
       ")"
      ]
     },
     "execution_count": 21,
     "metadata": {},
     "output_type": "execute_result"
    }
   ],
   "source": [
    "learnMC"
   ]
  },
  {
   "cell_type": "code",
   "execution_count": null,
   "metadata": {},
   "outputs": [],
   "source": []
  }
 ],
 "metadata": {
  "kernelspec": {
   "display_name": "dropoutMC",
   "language": "python",
   "name": "dropoutmc"
  },
  "language_info": {
   "codemirror_mode": {
    "name": "ipython",
    "version": 3
   },
   "file_extension": ".py",
   "mimetype": "text/x-python",
   "name": "python",
   "nbconvert_exporter": "python",
   "pygments_lexer": "ipython3",
   "version": "3.6.4"
  }
 },
 "nbformat": 4,
 "nbformat_minor": 2
}
